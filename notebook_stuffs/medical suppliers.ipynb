{
 "cells": [
  {
   "cell_type": "code",
   "execution_count": 1,
   "metadata": {},
   "outputs": [],
   "source": [
    "import pandas as pd"
   ]
  },
  {
   "cell_type": "code",
   "execution_count": 4,
   "metadata": {},
   "outputs": [],
   "source": [
    "df = pd.read_excel('../data/Remedesivir_supply.xlsx')"
   ]
  },
  {
   "cell_type": "code",
   "execution_count": 6,
   "metadata": {},
   "outputs": [],
   "source": [
    "df.drop(['Unnamed: 0'], axis = 1, inplace = True)"
   ]
  },
  {
   "cell_type": "code",
   "execution_count": 15,
   "metadata": {},
   "outputs": [],
   "source": [
    "state_code = [\n",
    "            ('AN', 'Andaman and Nicobar Islands'),\n",
    "            ('AP', 'Andhra Pradesh'),\n",
    "            ('AR', 'Arunachal Pradesh'),\n",
    "            ('AS', 'Assam'),\n",
    "            ('BR', 'Bihar'),\n",
    "            ('CH', 'Chandigarh'),\n",
    "            ('CG', 'Chhattisgarh'),\n",
    "            ('DD', 'Dadra and Nagar Haveli and Daman and Diu'),\n",
    "            ('DL', 'Delhi'),\n",
    "            ('GA', 'Goa'),\n",
    "            ('GJ', 'Gujarat'),\n",
    "            ('HR', 'Haryana'),\n",
    "            ('HP', 'Himachal Pradesh'),\n",
    "            ('JK', 'Jammu and Kashmir'),\n",
    "            ('JH', 'Jharkhand'),\n",
    "            ('KA', 'Karnataka'),\n",
    "            ('KL', 'Kerala'),\n",
    "            ('LA', 'Ladakh'),\n",
    "            ('LD', 'Lakshadweep'),\n",
    "            ('MP', 'Madhya Pradesh'),\n",
    "            ('MH', 'Maharashtra'),\n",
    "            ('MN', 'Manipur'),\n",
    "            ('ML', 'Meghalaya'),\n",
    "            ('MZ', 'Mizoram'),\n",
    "            ('NL', 'Nagaland'),\n",
    "            ('OD', 'Odisha'),\n",
    "            ('PB', 'Punjab'),\n",
    "            ('PY', 'Puducherry'),\n",
    "            ('RJ', 'Rajasthan'),\n",
    "            ('SK', 'Sikkim'),\n",
    "            ('TN', 'Tamil Nadu'),\n",
    "            ('TS', 'Telangana'),\n",
    "            ('TR', 'Tripura'),\n",
    "            ('UP', 'Uttar Pradesh'),\n",
    "            ('UK', 'Uttarakhand'),\n",
    "            ('WB', 'West Bengal'),\n",
    "]"
   ]
  },
  {
   "cell_type": "code",
   "execution_count": 16,
   "metadata": {},
   "outputs": [],
   "source": [
    "state_code_dict = {v[1]:v[0] for v in state_code}"
   ]
  },
  {
   "cell_type": "code",
   "execution_count": 11,
   "metadata": {},
   "outputs": [],
   "source": [
    "clean_dict = {\n",
    "    'Andra Pradesh': 'Andhra Pradesh',\n",
    "    'Assam': 'Assam',\n",
    "    'Bihar':'Bihar',\n",
    "    'Chandigarh':'Chandigarh',\n",
    "    'Chhaattisgarh':'Chhattisgarh',\n",
    "    'Dadra undNagar Hav.':'Dadra and Nagar Haveli and Daman and Diu',\n",
    "    'Delhi':'Delhi',\n",
    "    'Goa':'Goa',\n",
    "    'Gujarat': 'Gujarat',\n",
    "    'Haryana':'Haryana',\n",
    "    'Jammu undKashmir': 'Jammu and Kashmir',\n",
    "    'Jharkhand':'Jharkhand',\n",
    "    'Karnataka':'Karnataka',\n",
    "    'Kerala':'Kerala',\n",
    "    'MadhyaPradesh':'Madhya Pradesh',\n",
    "    'Maharashtra':'Maharashtra',\n",
    "    'Orissa':'Odisha',\n",
    "    'Punjab':'Punjab',\n",
    "    'Rajasthan':'Rajasthan',\n",
    "    'Tamil Nadu':'Tamil Nadu',\n",
    "    'Telangana':'Telangana',\n",
    "    'Uttar Pradesh':'Uttar Pradesh',\n",
    "    'Uttaranchal':'Uttarakhand',\n",
    "    'West Bengal':'West Bengal',\n",
    "}"
   ]
  },
  {
   "cell_type": "code",
   "execution_count": 12,
   "metadata": {},
   "outputs": [],
   "source": [
    "df['State'] = df['State'].apply(lambda x: clean_dict[x])"
   ]
  },
  {
   "cell_type": "code",
   "execution_count": 31,
   "metadata": {},
   "outputs": [],
   "source": [
    "import json"
   ]
  },
  {
   "cell_type": "code",
   "execution_count": 35,
   "metadata": {},
   "outputs": [],
   "source": [
    "json.dumps?"
   ]
  },
  {
   "cell_type": "code",
   "execution_count": 38,
   "metadata": {},
   "outputs": [],
   "source": [
    "with open(\"../covid_india/lookup_data/state_code.json\", 'w') as f:\n",
    "    json.dump(state_code_dict,f)"
   ]
  },
  {
   "cell_type": "code",
   "execution_count": 39,
   "metadata": {},
   "outputs": [],
   "source": [
    "code_state = {v:k for k,v in state_code_dict.items()}\n",
    "with open(\"../covid_india/lookup_data/code_state.json\", 'w') as f:\n",
    "    json.dump(code_state, f)"
   ]
  },
  {
   "cell_type": "code",
   "execution_count": 21,
   "metadata": {},
   "outputs": [],
   "source": [
    "df['State_code'] = df['State'].apply(lambda x: state_code_dict[x])"
   ]
  },
  {
   "cell_type": "code",
   "execution_count": 22,
   "metadata": {},
   "outputs": [
    {
     "data": {
      "text/html": [
       "<div>\n",
       "<style scoped>\n",
       "    .dataframe tbody tr th:only-of-type {\n",
       "        vertical-align: middle;\n",
       "    }\n",
       "\n",
       "    .dataframe tbody tr th {\n",
       "        vertical-align: top;\n",
       "    }\n",
       "\n",
       "    .dataframe thead th {\n",
       "        text-align: right;\n",
       "    }\n",
       "</style>\n",
       "<table border=\"1\" class=\"dataframe\">\n",
       "  <thead>\n",
       "    <tr style=\"text-align: right;\">\n",
       "      <th></th>\n",
       "      <th>State</th>\n",
       "      <th>Distributor Name</th>\n",
       "      <th>Address</th>\n",
       "      <th>E-Mail Address</th>\n",
       "      <th>Telephone</th>\n",
       "      <th>State_code</th>\n",
       "    </tr>\n",
       "  </thead>\n",
       "  <tbody>\n",
       "    <tr>\n",
       "      <th>0</th>\n",
       "      <td>Andhra Pradesh</td>\n",
       "      <td>AUROBINDO DRUGS</td>\n",
       "      <td>D.NO:8-72, BLOCK-IIPRASAD PLAZA,KAMAIAHTHOPU C...</td>\n",
       "      <td>aurobindodrugs@gmail.com</td>\n",
       "      <td>0866-3202242</td>\n",
       "      <td>AP</td>\n",
       "    </tr>\n",
       "    <tr>\n",
       "      <th>1</th>\n",
       "      <td>Andhra Pradesh</td>\n",
       "      <td>BALAJI MEDICAL CORPORATION</td>\n",
       "      <td>9-10-51A, D.S BUILDINGSNAAZ CENTREGUNTUR 522 0...</td>\n",
       "      <td>bmcguntur1@gmail.com</td>\n",
       "      <td>9849828896</td>\n",
       "      <td>AP</td>\n",
       "    </tr>\n",
       "    <tr>\n",
       "      <th>2</th>\n",
       "      <td>Andhra Pradesh</td>\n",
       "      <td>AUROBINDO DRUGS (GNT)</td>\n",
       "      <td>D.NO:8-72, BLOCK-IIPRASAD PLAZA,KAMAIAHTHOPU C...</td>\n",
       "      <td>aurobindodrugs@gmail.com</td>\n",
       "      <td>0866-3202242</td>\n",
       "      <td>AP</td>\n",
       "    </tr>\n",
       "    <tr>\n",
       "      <th>3</th>\n",
       "      <td>Andhra Pradesh</td>\n",
       "      <td>KRANTHI MEDICAL AGENCIES</td>\n",
       "      <td>OLD GOVT HOSPITAL ROAD,BEHIND AMBETHKARSTATUEO...</td>\n",
       "      <td>pcsr79@yahoo.com</td>\n",
       "      <td>9246472006</td>\n",
       "      <td>AP</td>\n",
       "    </tr>\n",
       "    <tr>\n",
       "      <th>4</th>\n",
       "      <td>Andhra Pradesh</td>\n",
       "      <td>PARAMOUNT MEDICAL AGENCIES</td>\n",
       "      <td>30-8-7, BHANUSTREETDABAGARDENSVISAKHAPATNAM,VI...</td>\n",
       "      <td>paramountmedicalagencies@gmail.com</td>\n",
       "      <td>9849112421</td>\n",
       "      <td>AP</td>\n",
       "    </tr>\n",
       "    <tr>\n",
       "      <th>...</th>\n",
       "      <td>...</td>\n",
       "      <td>...</td>\n",
       "      <td>...</td>\n",
       "      <td>...</td>\n",
       "      <td>...</td>\n",
       "      <td>...</td>\n",
       "    </tr>\n",
       "    <tr>\n",
       "      <th>494</th>\n",
       "      <td>Uttarakhand</td>\n",
       "      <td>RUCHI MEDICAL PVT. LTD</td>\n",
       "      <td>18 P.D TANDON MARGLAXMAN CHOWKDEHRADUN,DEHRADU...</td>\n",
       "      <td>neeraj@ruchimedical.com</td>\n",
       "      <td>9634094090</td>\n",
       "      <td>UK</td>\n",
       "    </tr>\n",
       "    <tr>\n",
       "      <th>495</th>\n",
       "      <td>Uttarakhand</td>\n",
       "      <td>VISHAL MEDICO AGENCIES (CE)</td>\n",
       "      <td>KHANCHAND MARKET,HALDWANI 263 139,HALDWANI,262309</td>\n",
       "      <td>vishalmedicohld@gmail.com</td>\n",
       "      <td>9997907770</td>\n",
       "      <td>UK</td>\n",
       "    </tr>\n",
       "    <tr>\n",
       "      <th>496</th>\n",
       "      <td>West Bengal</td>\n",
       "      <td>Adeline Pharma Private Limited</td>\n",
       "      <td>105, Mahatma Gandhi Road..,Kolkata,700104</td>\n",
       "      <td>adelinepharma2016@gmail.com</td>\n",
       "      <td>9831041904 9748472456</td>\n",
       "      <td>WB</td>\n",
       "    </tr>\n",
       "    <tr>\n",
       "      <th>497</th>\n",
       "      <td>West Bengal</td>\n",
       "      <td>Adeline Pharma pvt. Ltd (Apollo)</td>\n",
       "      <td>B1, Rishi Tech Park, Premises no. 02-3602nd fl...</td>\n",
       "      <td>adelinepharma2016@gmail.com</td>\n",
       "      <td>033-66120102</td>\n",
       "      <td>WB</td>\n",
       "    </tr>\n",
       "    <tr>\n",
       "      <th>498</th>\n",
       "      <td>West Bengal</td>\n",
       "      <td>FRIENDS SPECIALITY MEDICINE pvt. lt</td>\n",
       "      <td>2ND FLOORPLOT XI 16BLOCK EP &amp; GPSECTOR V , SAL...</td>\n",
       "      <td>kolkata@fsmpl.co.in</td>\n",
       "      <td>8443902900</td>\n",
       "      <td>WB</td>\n",
       "    </tr>\n",
       "  </tbody>\n",
       "</table>\n",
       "<p>499 rows × 6 columns</p>\n",
       "</div>"
      ],
      "text/plain": [
       "              State                     Distributor Name  \\\n",
       "0    Andhra Pradesh                      AUROBINDO DRUGS   \n",
       "1    Andhra Pradesh           BALAJI MEDICAL CORPORATION   \n",
       "2    Andhra Pradesh                AUROBINDO DRUGS (GNT)   \n",
       "3    Andhra Pradesh             KRANTHI MEDICAL AGENCIES   \n",
       "4    Andhra Pradesh           PARAMOUNT MEDICAL AGENCIES   \n",
       "..              ...                                  ...   \n",
       "494     Uttarakhand               RUCHI MEDICAL PVT. LTD   \n",
       "495     Uttarakhand          VISHAL MEDICO AGENCIES (CE)   \n",
       "496     West Bengal       Adeline Pharma Private Limited   \n",
       "497     West Bengal     Adeline Pharma pvt. Ltd (Apollo)   \n",
       "498     West Bengal  FRIENDS SPECIALITY MEDICINE pvt. lt   \n",
       "\n",
       "                                               Address  \\\n",
       "0    D.NO:8-72, BLOCK-IIPRASAD PLAZA,KAMAIAHTHOPU C...   \n",
       "1    9-10-51A, D.S BUILDINGSNAAZ CENTREGUNTUR 522 0...   \n",
       "2    D.NO:8-72, BLOCK-IIPRASAD PLAZA,KAMAIAHTHOPU C...   \n",
       "3    OLD GOVT HOSPITAL ROAD,BEHIND AMBETHKARSTATUEO...   \n",
       "4    30-8-7, BHANUSTREETDABAGARDENSVISAKHAPATNAM,VI...   \n",
       "..                                                 ...   \n",
       "494  18 P.D TANDON MARGLAXMAN CHOWKDEHRADUN,DEHRADU...   \n",
       "495  KHANCHAND MARKET,HALDWANI 263 139,HALDWANI,262309   \n",
       "496          105, Mahatma Gandhi Road..,Kolkata,700104   \n",
       "497  B1, Rishi Tech Park, Premises no. 02-3602nd fl...   \n",
       "498  2ND FLOORPLOT XI 16BLOCK EP & GPSECTOR V , SAL...   \n",
       "\n",
       "                         E-Mail Address              Telephone State_code  \n",
       "0              aurobindodrugs@gmail.com           0866-3202242         AP  \n",
       "1                  bmcguntur1@gmail.com             9849828896         AP  \n",
       "2              aurobindodrugs@gmail.com           0866-3202242         AP  \n",
       "3                      pcsr79@yahoo.com             9246472006         AP  \n",
       "4    paramountmedicalagencies@gmail.com             9849112421         AP  \n",
       "..                                  ...                    ...        ...  \n",
       "494             neeraj@ruchimedical.com             9634094090         UK  \n",
       "495           vishalmedicohld@gmail.com             9997907770         UK  \n",
       "496         adelinepharma2016@gmail.com  9831041904 9748472456         WB  \n",
       "497         adelinepharma2016@gmail.com           033-66120102         WB  \n",
       "498                 kolkata@fsmpl.co.in             8443902900         WB  \n",
       "\n",
       "[499 rows x 6 columns]"
      ]
     },
     "execution_count": 22,
     "metadata": {},
     "output_type": "execute_result"
    }
   ],
   "source": [
    "df"
   ]
  },
  {
   "cell_type": "code",
   "execution_count": 28,
   "metadata": {},
   "outputs": [],
   "source": [
    "cols_new = ['state', 'dist_name', 'address', 'email', 'telephone', 'state_code']\n",
    "df.columns = cols_new"
   ]
  },
  {
   "cell_type": "code",
   "execution_count": 29,
   "metadata": {},
   "outputs": [],
   "source": [
    "df.to_csv(\"../data/Remedesivir_cleaned.csv\", index = False)"
   ]
  },
  {
   "cell_type": "code",
   "execution_count": null,
   "metadata": {},
   "outputs": [],
   "source": []
  }
 ],
 "metadata": {
  "kernelspec": {
   "display_name": "Python 3",
   "language": "python",
   "name": "python3"
  },
  "language_info": {
   "codemirror_mode": {
    "name": "ipython",
    "version": 3
   },
   "file_extension": ".py",
   "mimetype": "text/x-python",
   "name": "python",
   "nbconvert_exporter": "python",
   "pygments_lexer": "ipython3",
   "version": "3.8.3"
  }
 },
 "nbformat": 4,
 "nbformat_minor": 4
}
